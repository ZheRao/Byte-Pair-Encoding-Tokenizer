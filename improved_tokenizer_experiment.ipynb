{
 "cells": [
  {
   "cell_type": "code",
   "execution_count": 12,
   "metadata": {},
   "outputs": [],
   "source": [
    "import regex as re\n",
    "import numpy as np\n",
    "from tqdm.auto import tqdm"
   ]
  },
  {
   "cell_type": "code",
   "execution_count": 60,
   "metadata": {},
   "outputs": [
    {
     "name": "stdout",
     "output_type": "stream",
     "text": [
      "Total length of the books is 3729707\n"
     ]
    }
   ],
   "source": [
    "with open(\"lord-of-the-rings-processed.txt\", \"r\") as f:\n",
    "    text = f.read()\n",
    "print(f\"Total length of the books is {len(text)}\")"
   ]
  },
  {
   "cell_type": "code",
   "execution_count": 4,
   "metadata": {},
   "outputs": [],
   "source": [
    "vocab = {bytes([i]):i for i in range(256)}"
   ]
  },
  {
   "cell_type": "code",
   "execution_count": 8,
   "metadata": {},
   "outputs": [
    {
     "data": {
      "text/plain": [
       "32"
      ]
     },
     "execution_count": 8,
     "metadata": {},
     "output_type": "execute_result"
    }
   ],
   "source": [
    "vocab[b\" \"]"
   ]
  },
  {
   "cell_type": "code",
   "execution_count": 81,
   "metadata": {},
   "outputs": [
    {
     "data": {
      "text/plain": [
       "'The Music of the Ainur There was Eru, the One, who in Arda is called lluvatar; and he made first the'"
      ]
     },
     "execution_count": 81,
     "metadata": {},
     "output_type": "execute_result"
    }
   ],
   "source": [
    "text[:100]"
   ]
  },
  {
   "cell_type": "code",
   "execution_count": 61,
   "metadata": {},
   "outputs": [
    {
     "data": {
      "text/plain": [
       "\"I'm back,' he said. \""
      ]
     },
     "execution_count": 61,
     "metadata": {},
     "output_type": "execute_result"
    }
   ],
   "source": [
    "text[-20:]"
   ]
  },
  {
   "cell_type": "code",
   "execution_count": 72,
   "metadata": {},
   "outputs": [
    {
     "data": {
      "text/plain": [
       "'<|startofchapter|>Th'"
      ]
     },
     "execution_count": 72,
     "metadata": {},
     "output_type": "execute_result"
    }
   ],
   "source": [
    "text2 = \"<|startofchapter|>\" + text\n",
    "text2[:20]"
   ]
  },
  {
   "cell_type": "markdown",
   "metadata": {},
   "source": [
    "# experiment"
   ]
  },
  {
   "cell_type": "code",
   "execution_count": 88,
   "metadata": {},
   "outputs": [
    {
     "data": {
      "text/plain": [
       "regex.Regex(\"'(?i:[sdmt]|ll|ve|re)|[^\\\\r\\\\n\\\\p{L}\\\\p{N}]?+\\\\p{L}+|\\\\p{N}{1,3}| ?[^\\\\s\\\\p{L}\\\\p{N}]++[\\\\r\\\\n]*|\\\\s*[\\\\r\\\\n]|\\\\s+(?!\\\\S)|\\\\s+\", flags=regex.V0)"
      ]
     },
     "execution_count": 88,
     "metadata": {},
     "output_type": "execute_result"
    }
   ],
   "source": [
    "pattern = r\"\"\"'(?i:[sdmt]|ll|ve|re)|[^\\r\\n\\p{L}\\p{N}]?+\\p{L}+|\\p{N}{1,3}| ?[^\\s\\p{L}\\p{N}]++[\\r\\n]*|\\s*[\\r\\n]|\\s+(?!\\S)|\\s+\"\"\"\n",
    "pattern2 = re.compile(r\"\"\" ?<\\|[a-z]+\\|>|'(?i:[sdmt]|ll|ve|re)|[^\\r\\n\\p{L}\\p{N}]?+\\p{L}+|\\p{N}{1,3}| ?[^\\s\\p{L}\\p{N}]++[\\r\\n]*|\\s*[\\r\\n]|\\s+(?!\\S)|\\s+\"\"\")\n",
    "compiled_pattern = re.compile(pattern)\n",
    "compiled_pattern"
   ]
  },
  {
   "cell_type": "code",
   "execution_count": 75,
   "metadata": {},
   "outputs": [
    {
     "data": {
      "text/plain": [
       "['<|startofchapter|>', 'Th']"
      ]
     },
     "execution_count": 75,
     "metadata": {},
     "output_type": "execute_result"
    }
   ],
   "source": [
    "re.findall(pattern2,text2[:20])"
   ]
  },
  {
   "cell_type": "code",
   "execution_count": 4,
   "metadata": {},
   "outputs": [],
   "source": [
    "sample = text"
   ]
  },
  {
   "cell_type": "code",
   "execution_count": 89,
   "metadata": {},
   "outputs": [
    {
     "name": "stdout",
     "output_type": "stream",
     "text": [
      "826401\n"
     ]
    }
   ],
   "source": [
    "text_chunks = re.findall(compiled_pattern,text)\n",
    "print(len(text_chunks))"
   ]
  },
  {
   "cell_type": "code",
   "execution_count": 90,
   "metadata": {},
   "outputs": [
    {
     "name": "stdout",
     "output_type": "stream",
     "text": [
      "826402\n"
     ]
    }
   ],
   "source": [
    "text_chunks_new = re.findall(pattern2,text2)\n",
    "print(len(text_chunks_new))"
   ]
  },
  {
   "cell_type": "code",
   "execution_count": 91,
   "metadata": {},
   "outputs": [
    {
     "data": {
      "text/plain": [
       "['The',\n",
       " ' Music',\n",
       " ' of',\n",
       " ' the',\n",
       " ' Ainur',\n",
       " ' There',\n",
       " ' was',\n",
       " ' Eru',\n",
       " ',',\n",
       " ' the',\n",
       " ' One',\n",
       " ',',\n",
       " ' who',\n",
       " ' in',\n",
       " ' Arda',\n",
       " ' is',\n",
       " ' called',\n",
       " ' lluvatar',\n",
       " ';',\n",
       " ' and']"
      ]
     },
     "execution_count": 91,
     "metadata": {},
     "output_type": "execute_result"
    }
   ],
   "source": [
    "text_chunks[:20]"
   ]
  },
  {
   "cell_type": "code",
   "execution_count": 92,
   "metadata": {},
   "outputs": [
    {
     "data": {
      "text/plain": [
       "['<|startofchapter|>',\n",
       " 'The',\n",
       " ' Music',\n",
       " ' of',\n",
       " ' the',\n",
       " ' Ainur',\n",
       " ' There',\n",
       " ' was',\n",
       " ' Eru',\n",
       " ',',\n",
       " ' the',\n",
       " ' One',\n",
       " ',',\n",
       " ' who',\n",
       " ' in',\n",
       " ' Arda',\n",
       " ' is',\n",
       " ' called',\n",
       " ' lluvatar',\n",
       " ';']"
      ]
     },
     "execution_count": 92,
     "metadata": {},
     "output_type": "execute_result"
    }
   ],
   "source": [
    "text_chunks_new[:20]"
   ]
  },
  {
   "cell_type": "code",
   "execution_count": 93,
   "metadata": {},
   "outputs": [
    {
     "data": {
      "text/plain": [
       "['<|startofchapter|>']"
      ]
     },
     "execution_count": 93,
     "metadata": {},
     "output_type": "execute_result"
    }
   ],
   "source": [
    "difference = list(set(text_chunks_new) - set(text_chunks))\n",
    "difference"
   ]
  },
  {
   "cell_type": "code",
   "execution_count": 46,
   "metadata": {},
   "outputs": [
    {
     "name": "stdout",
     "output_type": "stream",
     "text": [
      "['The', ' Music', ' of', ' the', ' Ainur', ' There', ' was', ' Eru', ',', ' the']\n"
     ]
    }
   ],
   "source": [
    "print(text_chunks[:10])"
   ]
  },
  {
   "cell_type": "code",
   "execution_count": 57,
   "metadata": {},
   "outputs": [
    {
     "data": {
      "text/plain": [
       "[84, 104, 101]"
      ]
     },
     "execution_count": 57,
     "metadata": {},
     "output_type": "execute_result"
    }
   ],
   "source": [
    "list((text_chunks[0].encode(\"utf-8\")))"
   ]
  },
  {
   "cell_type": "code",
   "execution_count": 58,
   "metadata": {},
   "outputs": [
    {
     "name": "stdout",
     "output_type": "stream",
     "text": [
      "826401\n"
     ]
    }
   ],
   "source": [
    "token_chunks = [list(chunk.encode(\"utf-8\")) for chunk in text_chunks]\n",
    "print(len(token_chunks))"
   ]
  },
  {
   "cell_type": "code",
   "execution_count": 19,
   "metadata": {},
   "outputs": [],
   "source": [
    "def get_pair_counts(tokens,pairs={}):\n",
    "    for (c1,c2) in zip(tokens[:-1],tokens[1:]):\n",
    "        pairs[(c1,c2)] = pairs.get((c1,c2),0) + 1\n",
    "    return pairs"
   ]
  },
  {
   "cell_type": "code",
   "execution_count": 20,
   "metadata": {},
   "outputs": [
    {
     "name": "stdout",
     "output_type": "stream",
     "text": [
      "3729707\n"
     ]
    },
    {
     "data": {
      "text/plain": [
       "[(('e', ' '), 122267),\n",
       " ((' ', 't'), 107301),\n",
       " (('t', 'h'), 97454),\n",
       " (('h', 'e'), 95711),\n",
       " (('d', ' '), 85094),\n",
       " ((' ', 'a'), 74312),\n",
       " (('t', ' '), 66737),\n",
       " (('s', ' '), 60306),\n",
       " (('a', 'n'), 52657),\n",
       " (('i', 'n'), 51884),\n",
       " (('n', 'd'), 50578),\n",
       " ((' ', 's'), 47191),\n",
       " ((' ', 'w'), 46516),\n",
       " ((' ', 'h'), 46059),\n",
       " (('n', ' '), 44394),\n",
       " (('e', 'r'), 42105),\n",
       " ((',', ' '), 41681),\n",
       " (('r', 'e'), 41576),\n",
       " ((' ', 'o'), 41228),\n",
       " (('r', ' '), 35267)]"
      ]
     },
     "execution_count": 20,
     "metadata": {},
     "output_type": "execute_result"
    }
   ],
   "source": [
    "pair_counts={}\n",
    "print(len(sample))\n",
    "pair_counts = get_pair_counts(sample)\n",
    "sorted_pair_counts = sorted(pair_counts.items(),key=lambda x: x[1], reverse=True)\n",
    "sorted_pair_counts[:20]"
   ]
  },
  {
   "cell_type": "code",
   "execution_count": 50,
   "metadata": {},
   "outputs": [],
   "source": [
    "pair_counts2 = {}\n",
    "for chunks in token_chunks:\n",
    "    pair_counts2 = get_pair_counts(chunks,pairs=pair_counts2)\n"
   ]
  },
  {
   "cell_type": "code",
   "execution_count": 22,
   "metadata": {},
   "outputs": [
    {
     "data": {
      "text/plain": [
       "[((32, 116), 107301),\n",
       " ((116, 104), 97453),\n",
       " ((104, 101), 95711),\n",
       " ((32, 97), 74312),\n",
       " ((97, 110), 52657),\n",
       " ((105, 110), 51884),\n",
       " ((110, 100), 50578),\n",
       " ((32, 115), 47191),\n",
       " ((32, 119), 46516),\n",
       " ((32, 104), 46059),\n",
       " ((101, 114), 42105),\n",
       " ((114, 101), 41576),\n",
       " ((32, 111), 41228),\n",
       " ((111, 117), 31075),\n",
       " ((104, 97), 29690),\n",
       " ((101, 100), 29597),\n",
       " ((32, 105), 29194),\n",
       " ((111, 114), 29095),\n",
       " ((110, 103), 28596),\n",
       " ((32, 98), 27952)]"
      ]
     },
     "execution_count": 22,
     "metadata": {},
     "output_type": "execute_result"
    }
   ],
   "source": [
    "sorted_pairs_counts2 = sorted(pair_counts2.items(),key=lambda x:x[1], reverse=True)\n",
    "sorted_pairs_counts2[:20]"
   ]
  },
  {
   "cell_type": "code",
   "execution_count": 24,
   "metadata": {},
   "outputs": [
    {
     "data": {
      "text/plain": [
       "[[84, 104, 101],\n",
       " [32, 77, 117, 115, 105, 99],\n",
       " [32, 111, 102],\n",
       " [32, 116, 104, 101],\n",
       " [32, 65, 105, 110, 117, 114],\n",
       " [32, 84, 104, 101, 114, 101],\n",
       " [32, 119, 97, 115],\n",
       " [32, 69, 114, 117],\n",
       " [44],\n",
       " [32, 116, 104, 101]]"
      ]
     },
     "execution_count": 24,
     "metadata": {},
     "output_type": "execute_result"
    }
   ],
   "source": [
    "token_chunks[:10]"
   ]
  },
  {
   "cell_type": "code",
   "execution_count": 23,
   "metadata": {},
   "outputs": [
    {
     "data": {
      "text/plain": [
       "[3, 6, 3, 4, 6, 6, 4, 4, 1, 4]"
      ]
     },
     "execution_count": 23,
     "metadata": {},
     "output_type": "execute_result"
    }
   ],
   "source": [
    "len_token_chunks = list(map(len,token_chunks))\n",
    "len_token_chunks[:10]"
   ]
  },
  {
   "cell_type": "code",
   "execution_count": 29,
   "metadata": {},
   "outputs": [
    {
     "data": {
      "text/plain": [
       "4.5151530552358965"
      ]
     },
     "execution_count": 29,
     "metadata": {},
     "output_type": "execute_result"
    }
   ],
   "source": [
    "np.mean(len_token_chunks)"
   ]
  },
  {
   "cell_type": "code",
   "execution_count": 51,
   "metadata": {},
   "outputs": [
    {
     "data": {
      "text/plain": [
       "(32, 116)"
      ]
     },
     "execution_count": 51,
     "metadata": {},
     "output_type": "execute_result"
    }
   ],
   "source": [
    "top_pair = max(pair_counts2,key=pair_counts2.get)\n",
    "top_pair"
   ]
  },
  {
   "cell_type": "code",
   "execution_count": 30,
   "metadata": {},
   "outputs": [],
   "source": [
    "def merge_top_pair(token_chunk,pair,new_token):\n",
    "    new_tokens = []\n",
    "    i = 0\n",
    "    while i < len(token_chunk):\n",
    "        if i < len(token_chunk)-1 and (token_chunk[i], token_chunk[i+1]) == pair:\n",
    "            new_tokens.append(new_token)\n",
    "            i += 2\n",
    "        else:\n",
    "            new_tokens.append(token_chunk[i])\n",
    "            i += 1\n",
    "    return new_tokens"
   ]
  },
  {
   "cell_type": "code",
   "execution_count": 61,
   "metadata": {},
   "outputs": [],
   "source": [
    "token_chunks2 = [merge_top_pair(chunk,top_pair,257) for chunk in token_chunks]"
   ]
  },
  {
   "cell_type": "code",
   "execution_count": 33,
   "metadata": {},
   "outputs": [
    {
     "data": {
      "text/plain": [
       "[3, 6, 3, 3, 6, 6, 4, 4, 1, 3]"
      ]
     },
     "execution_count": 33,
     "metadata": {},
     "output_type": "execute_result"
    }
   ],
   "source": [
    "len_token_chunks2 = list(map(len,token_chunks2))\n",
    "len_token_chunks2[:10]"
   ]
  },
  {
   "cell_type": "code",
   "execution_count": 53,
   "metadata": {},
   "outputs": [
    {
     "data": {
      "text/plain": [
       "4.385311731229754"
      ]
     },
     "execution_count": 53,
     "metadata": {},
     "output_type": "execute_result"
    }
   ],
   "source": [
    "np.mean(len_token_chunks2)"
   ]
  },
  {
   "cell_type": "code",
   "execution_count": 54,
   "metadata": {},
   "outputs": [
    {
     "data": {
      "text/plain": [
       "[array([ 84, 104, 101]),\n",
       " array([ 32,  77, 117, 115, 105,  99]),\n",
       " array([ 32, 111, 102]),\n",
       " array([ 32, 116, 104, 101]),\n",
       " array([ 32,  65, 105, 110, 117, 114]),\n",
       " array([ 32,  84, 104, 101, 114, 101]),\n",
       " array([ 32, 119,  97, 115]),\n",
       " array([ 32,  69, 114, 117]),\n",
       " array([44]),\n",
       " array([ 32, 116, 104, 101])]"
      ]
     },
     "execution_count": 54,
     "metadata": {},
     "output_type": "execute_result"
    }
   ],
   "source": [
    "token_chunks[:10]"
   ]
  },
  {
   "cell_type": "code",
   "execution_count": 62,
   "metadata": {},
   "outputs": [
    {
     "data": {
      "text/plain": [
       "[[84, 104, 101],\n",
       " [32, 77, 117, 115, 105, 99],\n",
       " [32, 111, 102],\n",
       " [257, 104, 101],\n",
       " [32, 65, 105, 110, 117, 114],\n",
       " [32, 84, 104, 101, 114, 101],\n",
       " [32, 119, 97, 115],\n",
       " [32, 69, 114, 117],\n",
       " [44],\n",
       " [257, 104, 101]]"
      ]
     },
     "execution_count": 62,
     "metadata": {},
     "output_type": "execute_result"
    }
   ],
   "source": [
    "token_chunks2[:10]"
   ]
  },
  {
   "cell_type": "code",
   "execution_count": 63,
   "metadata": {},
   "outputs": [
    {
     "data": {
      "text/plain": [
       "826401"
      ]
     },
     "execution_count": 63,
     "metadata": {},
     "output_type": "execute_result"
    }
   ],
   "source": [
    "len(token_chunks2)"
   ]
  },
  {
   "cell_type": "code",
   "execution_count": 67,
   "metadata": {},
   "outputs": [],
   "source": [
    "with open(\"test.npy\",\"wb\") as f:\n",
    "    np.save(f,len(token_chunks2))\n",
    "    for chunk in token_chunks2:\n",
    "        np.save(f,chunk)"
   ]
  },
  {
   "cell_type": "code",
   "execution_count": 73,
   "metadata": {},
   "outputs": [],
   "source": [
    "with open(\"test.npy\",\"rb\") as f:\n",
    "    token_chunks3 = []\n",
    "    token_length = np.load(f)\n",
    "    for _ in range(token_length.item()):\n",
    "        token_chunks3.append(np.load(f))"
   ]
  },
  {
   "cell_type": "code",
   "execution_count": 74,
   "metadata": {},
   "outputs": [
    {
     "data": {
      "text/plain": [
       "[array([ 84, 104, 101]),\n",
       " array([ 32,  77, 117, 115, 105,  99]),\n",
       " array([ 32, 111, 102]),\n",
       " array([257, 104, 101]),\n",
       " array([ 32,  65, 105, 110, 117, 114]),\n",
       " array([ 32,  84, 104, 101, 114, 101]),\n",
       " array([ 32, 119,  97, 115]),\n",
       " array([ 32,  69, 114, 117]),\n",
       " array([44]),\n",
       " array([257, 104, 101]),\n",
       " array([ 32,  79, 110, 101]),\n",
       " array([44]),\n",
       " array([ 32, 119, 104, 111]),\n",
       " array([ 32, 105, 110]),\n",
       " array([ 32,  65, 114, 100,  97]),\n",
       " array([ 32, 105, 115]),\n",
       " array([ 32,  99,  97, 108, 108, 101, 100]),\n",
       " array([ 32, 108, 108, 117, 118,  97, 116,  97, 114]),\n",
       " array([59]),\n",
       " array([ 32,  97, 110, 100]),\n",
       " array([ 32, 104, 101]),\n",
       " array([ 32, 109,  97, 100, 101]),\n",
       " array([ 32, 102, 105, 114, 115, 116]),\n",
       " array([257, 104, 101]),\n",
       " array([ 32,  65, 105, 110, 117, 114]),\n",
       " array([44]),\n",
       " array([257, 104, 101]),\n",
       " array([ 32,  72, 111, 108, 121]),\n",
       " array([ 32,  79, 110, 101, 115]),\n",
       " array([44]),\n",
       " array([257, 104,  97, 116]),\n",
       " array([ 32, 119, 101, 114, 101]),\n",
       " array([257, 104, 101]),\n",
       " array([ 32, 111, 102, 102, 115, 112, 114, 105, 110, 103]),\n",
       " array([ 32, 111, 102]),\n",
       " array([ 32, 104, 105, 115]),\n",
       " array([257, 104, 111, 117, 103, 104, 116]),\n",
       " array([44]),\n",
       " array([ 32,  97, 110, 100]),\n",
       " array([257, 104, 101, 121]),\n",
       " array([ 32, 119, 101, 114, 101]),\n",
       " array([ 32, 119, 105, 116, 104]),\n",
       " array([ 32, 104, 105, 109]),\n",
       " array([ 32,  98, 101, 102, 111, 114, 101]),\n",
       " array([ 32,  97, 117, 103, 104, 116]),\n",
       " array([ 32, 101, 108, 115, 101]),\n",
       " array([ 32, 119,  97, 115]),\n",
       " array([ 32, 109,  97, 100, 101]),\n",
       " array([46]),\n",
       " array([ 32,  65, 110, 100]),\n",
       " array([ 32, 104, 101]),\n",
       " array([ 32, 115, 112, 111, 107, 101]),\n",
       " array([257, 111]),\n",
       " array([257, 104, 101, 109]),\n",
       " array([44]),\n",
       " array([ 32, 112, 114, 111, 112, 111, 117, 110, 100, 105, 110, 103]),\n",
       " array([257, 111]),\n",
       " array([257, 104, 101, 109]),\n",
       " array([257, 104, 101, 109, 101, 115]),\n",
       " array([ 32, 111, 102]),\n",
       " array([ 32, 109, 117, 115, 105,  99]),\n",
       " array([59]),\n",
       " array([ 32,  97, 110, 100]),\n",
       " array([257, 104, 101, 121]),\n",
       " array([ 32, 115,  97, 110, 103]),\n",
       " array([ 32,  98, 101, 102, 111, 114, 101]),\n",
       " array([ 32, 104, 105, 109]),\n",
       " array([44]),\n",
       " array([ 32,  97, 110, 100]),\n",
       " array([ 32, 104, 101]),\n",
       " array([ 32, 119,  97, 115]),\n",
       " array([ 32, 103, 108,  97, 100]),\n",
       " array([46]),\n",
       " array([ 32,  66, 117, 116]),\n",
       " array([ 32, 102, 111, 114]),\n",
       " array([32, 97]),\n",
       " array([ 32, 108, 111, 110, 103]),\n",
       " array([ 32, 119, 104, 105, 108, 101]),\n",
       " array([257, 104, 101, 121]),\n",
       " array([ 32, 115,  97, 110, 103]),\n",
       " array([ 32, 111, 110, 108, 121]),\n",
       " array([ 32, 101,  97,  99, 104]),\n",
       " array([ 32,  97, 108, 111, 110, 101]),\n",
       " array([44]),\n",
       " array([ 32, 111, 114]),\n",
       " array([ 32,  98, 117, 116]),\n",
       " array([ 32, 102, 101, 119]),\n",
       " array([257, 111, 103, 101, 116, 104, 101, 114]),\n",
       " array([44]),\n",
       " array([ 32, 119, 104, 105, 108, 101]),\n",
       " array([257, 104, 101]),\n",
       " array([ 32, 114, 101, 115, 116]),\n",
       " array([ 32, 104, 101,  97, 114, 107, 101, 110, 101, 100]),\n",
       " array([59]),\n",
       " array([ 32, 102, 111, 114]),\n",
       " array([ 32, 101,  97,  99, 104]),\n",
       " array([ 32,  99, 111, 109, 112, 114, 101, 104, 101, 110, 100, 101, 100]),\n",
       " array([ 32, 111, 110, 108, 121]),\n",
       " array([257, 104,  97, 116]),\n",
       " array([ 32, 112,  97, 114, 116]),\n",
       " array([ 32, 111, 102]),\n",
       " array([ 32, 109, 101]),\n",
       " array([ 32, 109, 105, 110, 100]),\n",
       " array([ 32, 111, 102]),\n",
       " array([ 32, 108, 108, 117, 118,  97, 116,  97, 114]),\n",
       " array([ 32, 102, 114, 111, 109]),\n",
       " array([ 32, 119, 104, 105,  99, 104]),\n",
       " array([ 32, 104, 101]),\n",
       " array([ 32,  99,  97, 109, 101]),\n",
       " array([44]),\n",
       " array([ 32,  97, 110, 100]),\n",
       " array([ 32, 105, 110]),\n",
       " array([257, 104, 101]),\n",
       " array([ 32, 117, 110, 100, 101, 114, 115, 116,  97, 110, 100, 105, 110,\n",
       "        103]),\n",
       " array([ 32, 111, 102]),\n",
       " array([257, 104, 101, 105, 114]),\n",
       " array([ 32,  98, 114, 101, 116, 104, 114, 101, 110]),\n",
       " array([257, 104, 101, 121]),\n",
       " array([ 32, 103, 114, 101, 119]),\n",
       " array([ 32,  98, 117, 116]),\n",
       " array([ 32, 115, 108, 111, 119, 108, 121]),\n",
       " array([46]),\n",
       " array([ 32,  89, 101, 116]),\n",
       " array([ 32, 101, 118, 101, 114]),\n",
       " array([ 32,  97, 115]),\n",
       " array([257, 104, 101, 121]),\n",
       " array([ 32, 108, 105, 115, 116, 101, 110, 101, 100]),\n",
       " array([257, 104, 101, 121]),\n",
       " array([ 32,  99,  97, 109, 101]),\n",
       " array([257, 111]),\n",
       " array([ 32, 100, 101, 101, 112, 101, 114]),\n",
       " array([ 32, 117, 110, 100, 101, 114, 115, 116,  97, 110, 100, 105, 110,\n",
       "        103]),\n",
       " array([44]),\n",
       " array([ 32,  97, 110, 100]),\n",
       " array([ 32, 105, 110,  99, 114, 101,  97, 115, 101, 100]),\n",
       " array([ 32, 105, 110]),\n",
       " array([ 32, 117, 110, 105, 115, 111, 110]),\n",
       " array([ 32,  97, 110, 100]),\n",
       " array([ 32, 104,  97, 114, 109, 111, 110, 121]),\n",
       " array([46]),\n",
       " array([ 32,  65, 110, 100]),\n",
       " array([ 32, 105, 116]),\n",
       " array([ 32,  99,  97, 109, 101]),\n",
       " array([257, 111]),\n",
       " array([ 32, 112,  97, 115, 115]),\n",
       " array([257, 104,  97, 116]),\n",
       " array([ 32, 108, 108, 117, 118,  97, 116,  97, 114]),\n",
       " array([ 32,  99,  97, 108, 108, 101, 100]),\n",
       " array([257, 111, 103, 101, 116, 104, 101, 114]),\n",
       " array([ 32,  97, 108, 108]),\n",
       " array([257, 104, 101]),\n",
       " array([ 32,  65, 105, 110, 117, 114]),\n",
       " array([ 32,  97, 110, 100]),\n",
       " array([ 32, 100, 101,  99, 108,  97, 114, 101, 100]),\n",
       " array([257, 111]),\n",
       " array([257, 104, 101, 109]),\n",
       " array([32, 97]),\n",
       " array([ 32, 109, 105, 103, 104, 116, 121]),\n",
       " array([257, 104, 101, 109, 101]),\n",
       " array([44]),\n",
       " array([ 32, 117, 110, 102, 111, 108, 100, 105, 110, 103]),\n",
       " array([257, 111]),\n",
       " array([257, 104, 101, 109]),\n",
       " array([257, 104, 105, 110, 103, 115]),\n",
       " array([ 32, 103, 114, 101,  97, 116, 101, 114]),\n",
       " array([ 32,  97, 110, 100]),\n",
       " array([ 32, 109, 111, 114, 101]),\n",
       " array([ 32, 119, 111, 110, 100, 101, 114, 102, 117, 108]),\n",
       " array([257, 104,  97, 110]),\n",
       " array([ 32, 104, 101]),\n",
       " array([ 32, 104,  97, 100]),\n",
       " array([ 32, 121, 101, 116]),\n",
       " array([ 32, 114, 101, 118, 101,  97, 108, 101, 100]),\n",
       " array([59]),\n",
       " array([ 32,  97, 110, 100]),\n",
       " array([257, 104, 101]),\n",
       " array([ 32, 103, 108, 111, 114, 121]),\n",
       " array([ 32, 111, 102]),\n",
       " array([ 32, 105, 116, 115]),\n",
       " array([ 32,  98, 101, 103, 105, 110, 110, 105, 110, 103]),\n",
       " array([ 32,  97, 110, 100]),\n",
       " array([257, 104, 101]),\n",
       " array([ 32, 115, 112, 108, 101, 110, 100, 111, 117, 114]),\n",
       " array([ 32, 111, 102]),\n",
       " array([ 32, 105, 116, 115]),\n",
       " array([ 32, 101, 110, 100]),\n",
       " array([ 32,  97, 109,  97, 122, 101, 100]),\n",
       " array([257, 104, 101]),\n",
       " array([ 32,  65, 105, 110, 117, 114]),\n",
       " array([44]),\n",
       " array([ 32, 115, 111]),\n",
       " array([257, 104,  97, 116]),\n",
       " array([257, 104, 101, 121]),\n",
       " array([ 32,  98, 111, 119, 101, 100]),\n",
       " array([ 32,  98, 101, 102, 111, 114, 101]),\n",
       " array([ 32, 108, 108, 117, 118,  97, 116,  97, 114]),\n",
       " array([ 32,  97, 110, 100]),\n",
       " array([ 32, 119, 101, 114, 101]),\n",
       " array([ 32, 115, 105, 108, 101, 110, 116]),\n",
       " array([46]),\n",
       " array([ 32,  84, 104, 101, 110]),\n",
       " array([ 32, 108, 108, 117, 118,  97, 116,  97, 114]),\n",
       " array([ 32, 115,  97, 105, 100]),\n",
       " array([257, 111]),\n",
       " array([257, 104, 101, 109]),\n",
       " array([58]),\n",
       " array([32, 39]),\n",
       " array([ 79, 102]),\n",
       " array([257, 104, 101]),\n",
       " array([257, 104, 101, 109, 101]),\n",
       " array([257, 104,  97, 116]),\n",
       " array([32, 73]),\n",
       " array([ 32, 104,  97, 118, 101]),\n",
       " array([ 32, 100, 101,  99, 108,  97, 114, 101, 100]),\n",
       " array([257, 111]),\n",
       " array([ 32, 121, 111, 117]),\n",
       " array([44]),\n",
       " array([32, 73]),\n",
       " array([ 32, 119, 105, 108, 108]),\n",
       " array([ 32, 110, 111, 119]),\n",
       " array([257, 104,  97, 116]),\n",
       " array([ 32, 121, 101]),\n",
       " array([ 32, 109,  97, 107, 101]),\n",
       " array([ 32, 105, 110]),\n",
       " array([ 32, 104,  97, 114, 109, 111, 110, 121]),\n",
       " array([257, 111, 103, 101, 116, 104, 101, 114]),\n",
       " array([32, 97]),\n",
       " array([ 32,  71, 114, 101,  97, 116]),\n",
       " array([ 32,  77, 117, 115, 105,  99]),\n",
       " array([46]),\n",
       " array([ 32,  65, 110, 100]),\n",
       " array([ 32, 115, 105, 110,  99, 101]),\n",
       " array([32, 73]),\n",
       " array([ 32, 104,  97, 118, 101]),\n",
       " array([ 32, 107, 105, 110, 100, 108, 101, 100]),\n",
       " array([ 32, 121, 111, 117]),\n",
       " array([ 32, 119, 105, 116, 104]),\n",
       " array([257, 104, 101]),\n",
       " array([ 32,  70, 108,  97, 109, 101]),\n",
       " array([ 32,  73, 109, 112, 101, 114, 105, 115, 104,  97,  98, 108, 101]),\n",
       " array([44]),\n",
       " array([ 32, 121, 101]),\n",
       " array([ 32, 115, 104,  97, 108, 108]),\n",
       " array([ 32, 115, 104, 111, 119]),\n",
       " array([ 32, 102, 111, 114, 116, 104]),\n",
       " array([ 32, 121, 111, 117, 114]),\n",
       " array([ 32, 112, 111, 119, 101, 114, 115]),\n",
       " array([ 32, 105, 110]),\n",
       " array([ 32,  97, 100, 111, 114, 110, 105, 110, 103]),\n",
       " array([257, 104, 105, 115]),\n",
       " array([257, 104, 101, 109, 101]),\n",
       " array([44]),\n",
       " array([ 32, 101,  97,  99, 104]),\n",
       " array([ 32, 119, 105, 116, 104]),\n",
       " array([ 32, 104, 105, 115]),\n",
       " array([ 32, 111, 119, 110]),\n",
       " array([257, 104, 111, 117, 103, 104, 116, 115]),\n",
       " array([ 32,  97, 110, 100]),\n",
       " array([ 32, 100, 101, 118, 105,  99, 101, 115]),\n",
       " array([44]),\n",
       " array([ 32, 105, 102]),\n",
       " array([ 32, 104, 101]),\n",
       " array([ 32, 119, 105, 108, 108]),\n",
       " array([46]),\n",
       " array([ 32,  66, 117, 116]),\n",
       " array([32, 73]),\n",
       " array([ 32, 119, 105, 110]),\n",
       " array([ 32, 115, 105, 116]),\n",
       " array([ 32,  97, 110, 100]),\n",
       " array([ 32, 104, 101,  97, 114, 107, 101, 110]),\n",
       " array([44]),\n",
       " array([ 32,  97, 110, 100]),\n",
       " array([ 32,  98, 101]),\n",
       " array([ 32, 103, 108,  97, 100]),\n",
       " array([257, 104,  97, 116]),\n",
       " array([257, 104, 114, 111, 117, 103, 104]),\n",
       " array([ 32, 121, 111, 117]),\n",
       " array([ 32, 103, 114, 101,  97, 116]),\n",
       " array([ 32,  98, 101,  97, 117, 116, 121]),\n",
       " array([ 32, 104,  97, 115]),\n",
       " array([ 32,  98, 101, 101, 110]),\n",
       " array([ 32, 119,  97, 107, 101, 110, 101, 100]),\n",
       " array([ 32, 105, 110, 116, 111]),\n",
       " array([ 32, 115, 111, 110, 103]),\n",
       " array([46, 39]),\n",
       " array([ 32,  84, 104, 101, 110]),\n",
       " array([257, 104, 101]),\n",
       " array([ 32, 118, 111, 105,  99, 101, 115]),\n",
       " array([ 32, 111, 102]),\n",
       " array([257, 104, 101]),\n",
       " array([ 32,  65, 105, 110, 117, 114]),\n",
       " array([44]),\n",
       " array([ 32, 108, 105, 107, 101]),\n",
       " array([ 32, 117, 110, 116, 111]),\n",
       " array([ 32, 104,  97, 114, 112, 115]),\n",
       " array([ 32,  97, 110, 100]),\n",
       " array([ 32, 108, 117, 116, 101, 115]),\n",
       " array([44]),\n",
       " array([ 32,  97, 110, 100]),\n",
       " array([ 32, 112, 105, 112, 101, 115]),\n",
       " array([ 32,  97, 110, 100]),\n",
       " array([257, 114, 117, 109, 112, 101, 116, 115]),\n",
       " array([44]),\n",
       " array([ 32,  97, 110, 100]),\n",
       " array([ 32, 118, 105, 111, 108, 115]),\n",
       " array([ 32,  97, 110, 100]),\n",
       " array([ 32, 111, 114, 103,  97, 110, 115]),\n",
       " array([44]),\n",
       " array([ 32,  97, 110, 100]),\n",
       " array([ 32, 108, 105, 107, 101]),\n",
       " array([ 32, 117, 110, 116, 111]),\n",
       " array([ 32,  99, 111, 117, 110, 116, 108, 101, 115, 115]),\n",
       " array([ 32,  99, 104, 111, 105, 114, 115]),\n",
       " array([ 32, 115, 105, 110, 103, 105, 110, 103]),\n",
       " array([ 32, 119, 105, 116, 104]),\n",
       " array([ 32, 119, 111, 114, 100, 115]),\n",
       " array([44]),\n",
       " array([ 32,  98, 101, 103,  97, 110]),\n",
       " array([257, 111]),\n",
       " array([ 32, 102,  97, 115, 104, 105, 111, 110]),\n",
       " array([257, 104, 101]),\n",
       " array([257, 104, 101, 109, 101]),\n",
       " array([ 32, 111, 102]),\n",
       " array([ 32, 108, 108, 117, 118,  97, 116,  97, 114]),\n",
       " array([257, 111]),\n",
       " array([32, 97]),\n",
       " array([ 32, 103, 114, 101,  97, 116]),\n",
       " array([ 32, 109, 117, 115, 105,  99]),\n",
       " array([59]),\n",
       " array([ 32,  97, 110, 100]),\n",
       " array([32, 97]),\n",
       " array([ 32, 115, 111, 117, 110, 100]),\n",
       " array([ 32,  97, 114, 111, 115, 101]),\n",
       " array([ 32, 111, 102]),\n",
       " array([ 32, 101, 110, 100, 108, 101, 115, 115]),\n",
       " array([ 32, 105, 110, 116, 101, 114,  99, 104,  97, 110, 103, 105, 110,\n",
       "        103]),\n",
       " array([ 32, 109, 101, 108, 111, 100, 105, 101, 115]),\n",
       " array([ 32, 119, 111, 118, 101, 110]),\n",
       " array([ 32, 105, 110]),\n",
       " array([ 32, 104,  97, 114, 109, 111, 110, 121]),\n",
       " array([257, 104,  97, 116]),\n",
       " array([ 32, 112,  97, 115, 115, 101, 100]),\n",
       " array([ 32,  98, 101, 121, 111, 110, 100]),\n",
       " array([ 32, 104, 101,  97, 114, 105, 110, 103]),\n",
       " array([ 32, 105, 110, 116, 111]),\n",
       " array([257, 104, 101]),\n",
       " array([ 32, 100, 101, 112, 116, 104, 115]),\n",
       " array([ 32,  97, 110, 100]),\n",
       " array([ 32, 105, 110, 116, 111]),\n",
       " array([257, 104, 101]),\n",
       " array([ 32, 104, 101, 105, 103, 104, 116, 115]),\n",
       " array([44]),\n",
       " array([ 32,  97, 110, 100]),\n",
       " array([257, 104, 101]),\n",
       " array([ 32, 112, 108,  97,  99, 101, 115]),\n",
       " array([ 32, 111, 102]),\n",
       " array([257, 104, 101]),\n",
       " array([ 32, 100, 119, 101, 108, 108, 105, 110, 103]),\n",
       " array([ 32, 111, 102]),\n",
       " array([ 32, 108, 108, 117, 118,  97, 116,  97, 114]),\n",
       " array([ 32, 119, 101, 114, 101]),\n",
       " array([ 32, 102, 105, 108, 108, 101, 100]),\n",
       " array([257, 111]),\n",
       " array([ 32, 111, 118, 101, 114, 102, 108, 111, 119, 105, 110, 103]),\n",
       " array([44]),\n",
       " array([ 32,  97, 110, 100]),\n",
       " array([257, 104, 101]),\n",
       " array([ 32, 109, 117, 115, 105,  99]),\n",
       " array([ 32,  97, 110, 100]),\n",
       " array([257, 104, 101]),\n",
       " array([ 32, 101,  99, 104, 111]),\n",
       " array([ 32, 111, 102]),\n",
       " array([257, 104, 101]),\n",
       " array([ 32, 109, 117, 115, 105,  99]),\n",
       " array([ 32, 119, 101, 110, 116]),\n",
       " array([ 32, 111, 117, 116]),\n",
       " array([ 32, 105, 110, 116, 111]),\n",
       " array([257, 104, 101]),\n",
       " array([ 32,  86, 111, 105, 100]),\n",
       " array([44]),\n",
       " array([ 32,  97, 110, 100]),\n",
       " array([ 32, 105, 116]),\n",
       " array([ 32, 119,  97, 115]),\n",
       " array([ 32, 110, 111, 116]),\n",
       " array([ 32, 118, 111, 105, 100]),\n",
       " array([46]),\n",
       " array([ 32,  78, 101, 118, 101, 114]),\n",
       " array([ 32, 115, 105, 110,  99, 101]),\n",
       " array([ 32, 104,  97, 118, 101]),\n",
       " array([257, 104, 101]),\n",
       " array([ 32,  65, 105, 110, 117, 114]),\n",
       " array([ 32, 109,  97, 100, 101]),\n",
       " array([ 32,  97, 110, 121]),\n",
       " array([ 32, 109, 117, 115, 105,  99]),\n",
       " array([ 32, 108, 105, 107, 101]),\n",
       " array([257, 111]),\n",
       " array([257, 104, 105, 115]),\n",
       " array([ 32, 109, 117, 115, 105,  99]),\n",
       " array([44]),\n",
       " array([257, 104, 111, 117, 103, 104]),\n",
       " array([ 32, 105, 116]),\n",
       " array([ 32, 104,  97, 115]),\n",
       " array([ 32,  98, 101, 101, 110]),\n",
       " array([ 32, 115,  97, 105, 100]),\n",
       " array([257, 104,  97, 116]),\n",
       " array([32, 97]),\n",
       " array([ 32, 103, 114, 101,  97, 116, 101, 114]),\n",
       " array([ 32, 115, 116, 105, 108, 108]),\n",
       " array([ 32, 115, 104,  97, 108, 108]),\n",
       " array([ 32,  98, 101]),\n",
       " array([ 32, 109,  97, 100, 101]),\n",
       " array([ 32,  98, 101, 102, 111, 114, 101]),\n",
       " array([ 32, 108, 108, 117, 118,  97, 116,  97, 114]),\n",
       " array([ 32,  98, 121]),\n",
       " array([257, 104, 101]),\n",
       " array([ 32,  99, 104, 111, 105, 114, 115]),\n",
       " array([ 32, 111, 102]),\n",
       " array([257, 104, 101]),\n",
       " array([ 32,  65, 105, 110, 117, 114]),\n",
       " array([ 32,  97, 110, 100]),\n",
       " array([257, 104, 101]),\n",
       " array([ 32,  67, 104, 105, 108, 100, 114, 101, 110]),\n",
       " array([ 32, 111, 102]),\n",
       " array([ 32, 108, 108, 117, 118,  97, 116,  97, 114]),\n",
       " array([ 32,  97, 102, 116, 101, 114]),\n",
       " array([257, 104, 101]),\n",
       " array([ 32, 101, 110, 100]),\n",
       " array([ 32, 111, 102]),\n",
       " array([ 32, 100,  97, 121, 115]),\n",
       " array([46]),\n",
       " array([ 32,  84, 104, 101, 110]),\n",
       " array([257, 104, 101]),\n",
       " array([257, 104, 101, 109, 101, 115]),\n",
       " array([ 32, 111, 102]),\n",
       " array([ 32, 108, 108, 117, 118,  97, 116,  97, 114]),\n",
       " array([ 32, 115, 104,  97, 108, 108]),\n",
       " array([ 32,  98, 101]),\n",
       " array([ 32, 112, 108,  97, 121, 101, 100]),\n",
       " array([ 32,  97, 114, 105, 103, 104, 116]),\n",
       " array([44]),\n",
       " array([ 32,  97, 110, 100]),\n",
       " array([257,  97, 107, 101]),\n",
       " array([ 32,  66, 101, 105, 110, 103]),\n",
       " array([ 32, 105, 110]),\n",
       " array([257, 104, 101]),\n",
       " array([ 32, 109, 111, 109, 101, 110, 116]),\n",
       " array([ 32, 111, 102]),\n",
       " array([257, 104, 101, 105, 114]),\n",
       " array([ 32, 117, 116, 116, 101, 114,  97, 110,  99, 101]),\n",
       " array([44]),\n",
       " array([ 32, 102, 111, 114]),\n",
       " array([ 32,  97, 108, 108]),\n",
       " array([ 32, 115, 104,  97, 108, 108]),\n",
       " array([257, 104, 101, 110]),\n",
       " array([ 32, 117, 110, 100, 101, 114, 115, 116,  97, 110, 100]),\n",
       " array([ 32, 102, 117, 108, 108, 121]),\n",
       " array([ 32, 104, 105, 115]),\n",
       " array([ 32, 105, 110, 116, 101, 110, 116]),\n",
       " array([ 32, 105, 110]),\n",
       " array([257, 104, 101, 105, 114]),\n",
       " array([ 32, 112,  97, 114, 116]),\n",
       " array([44]),\n",
       " array([ 32,  97, 110, 100]),\n",
       " array([ 32, 101,  97,  99, 104]),\n",
       " array([ 32, 115, 104,  97, 108, 108]),\n",
       " array([ 32, 107, 110, 111, 119]),\n",
       " array([257, 104, 101]),\n",
       " array([ 32,  99, 111, 109, 112, 114, 101, 104, 101, 110, 115, 105, 111,\n",
       "        110]),\n",
       " array([ 32, 111, 102]),\n",
       " array([ 32, 101,  97,  99, 104]),\n",
       " array([44]),\n",
       " array([ 32,  97, 110, 100]),\n",
       " array([ 32, 108, 108, 117, 118,  97, 116,  97, 114]),\n",
       " array([ 32, 115, 104,  97, 108, 108]),\n",
       " array([ 32, 103, 105, 118, 101]),\n",
       " array([257, 111]),\n",
       " array([257, 104, 101, 105, 114]),\n",
       " array([257, 104, 111, 117, 103, 104, 116, 115]),\n",
       " array([257, 104, 101]),\n",
       " array([ 32, 115, 101,  99, 114, 101, 116]),\n",
       " array([ 32, 102, 105, 114, 101]),\n",
       " array([44]),\n",
       " array([ 32,  98, 101, 105, 110, 103]),\n",
       " array([ 32, 119, 101, 108, 108]),\n",
       " array([ 32, 112, 108, 101,  97, 115, 101, 100]),\n",
       " array([46]),\n",
       " array([ 32,  66, 117, 116]),\n",
       " array([ 32, 110, 111, 119]),\n",
       " array([ 32, 108, 108, 117, 118,  97, 116,  97, 114]),\n",
       " array([ 32, 115,  97, 116]),\n",
       " array([ 32,  97, 110, 100]),\n",
       " array([ 32, 104, 101,  97, 114, 107, 101, 110, 101, 100]),\n",
       " array([44]),\n",
       " array([ 32,  97, 110, 100]),\n",
       " array([ 32, 102, 111, 114]),\n",
       " array([32, 97]),\n",
       " array([ 32, 103, 114, 101,  97, 116]),\n",
       " array([ 32, 119, 104, 105, 108, 101]),\n",
       " array([ 32, 105, 116]),\n",
       " array([ 32, 115, 101, 101, 109, 101, 100]),\n",
       " array([ 32, 103, 111, 111, 100]),\n",
       " array([257, 111]),\n",
       " array([ 32, 104, 105, 109]),\n",
       " array([44]),\n",
       " array([ 32, 102, 111, 114]),\n",
       " array([ 32, 105, 110]),\n",
       " array([257, 104, 101]),\n",
       " array([ 32, 109, 117, 115, 105,  99]),\n",
       " array([257, 104, 101, 114, 101]),\n",
       " array([ 32, 119, 101, 114, 101]),\n",
       " array([ 32, 110, 111]),\n",
       " array([ 32, 102, 108,  97, 119, 115]),\n",
       " array([46]),\n",
       " array([ 32,  66, 117, 116]),\n",
       " array([ 32,  97, 115]),\n",
       " array([257, 104, 101]),\n",
       " array([257, 104, 101, 109, 101]),\n",
       " array([ 32, 112, 114, 111, 103, 114, 101, 115, 115, 101, 100]),\n",
       " array([44]),\n",
       " array([ 32, 105, 116]),\n",
       " array([ 32,  99,  97, 109, 101]),\n",
       " array([ 32, 105, 110, 116, 111]),\n",
       " array([257, 104, 101]),\n",
       " array([ 32, 104, 101,  97, 114, 116]),\n",
       " array([ 32, 111, 102]),\n",
       " array([ 32,  77, 101, 108, 107, 111, 114]),\n",
       " array([257, 111]),\n",
       " array([ 32, 105, 110, 116, 101, 114, 119, 101,  97, 118, 101]),\n",
       " array([ 32, 109,  97, 116, 116, 101, 114, 115]),\n",
       " array([ 32, 111, 102]),\n",
       " array([ 32, 104, 105, 115]),\n",
       " array([ 32, 111, 119, 110]),\n",
       " array([ 32, 105, 109,  97, 103, 105, 110, 105, 110, 103]),\n",
       " array([257, 104,  97, 116]),\n",
       " array([ 32, 119, 101, 114, 101]),\n",
       " array([ 32, 110, 111, 116]),\n",
       " array([ 32, 105, 110]),\n",
       " array([ 32,  97,  99,  99, 111, 114, 100]),\n",
       " array([ 32, 119, 105, 116, 104]),\n",
       " array([257, 104, 101]),\n",
       " array([257, 104, 101, 109, 101]),\n",
       " array([ 32, 111, 102]),\n",
       " array([ 32, 108, 108, 117, 118,  97, 116,  97, 114]),\n",
       " array([44]),\n",
       " array([ 32, 102, 111, 114]),\n",
       " array([ 32, 104, 101]),\n",
       " array([ 32, 115, 111, 117, 103, 104, 116]),\n",
       " array([257, 104, 101, 114, 101, 105, 110]),\n",
       " array([257, 111]),\n",
       " array([ 32, 105, 110,  99, 114, 101,  97, 115, 101]),\n",
       " array([257, 104, 101]),\n",
       " array([ 32, 112, 111, 119, 101, 114]),\n",
       " array([ 32,  97, 110, 100]),\n",
       " array([ 32, 103, 108, 111, 114, 121]),\n",
       " array([ 32, 111, 102]),\n",
       " array([257, 104, 101]),\n",
       " array([ 32, 112,  97, 114, 116]),\n",
       " array([ 32,  97, 115, 115, 105, 103, 110, 101, 100]),\n",
       " array([257, 111]),\n",
       " array([ 32, 104, 105, 109, 115, 101, 108, 102]),\n",
       " array([46]),\n",
       " array([ 32,  84, 111]),\n",
       " array([ 32,  77, 101, 108, 107, 111, 114]),\n",
       " array([ 32,  97, 109, 111, 110, 103]),\n",
       " array([257, 104, 101]),\n",
       " array([ 32,  65, 105, 110, 117, 114]),\n",
       " array([ 32, 104,  97, 100]),\n",
       " array([ 32,  98, 101, 101, 110]),\n",
       " array([ 32, 103, 105, 118, 101, 110]),\n",
       " array([257, 104, 101]),\n",
       " array([ 32, 103, 114, 101,  97, 116, 101, 115, 116]),\n",
       " array([ 32, 103, 105, 102, 116, 115]),\n",
       " array([ 32, 111, 102]),\n",
       " array([ 32, 112, 111, 119, 101, 114]),\n",
       " array([ 32,  97, 110, 100]),\n",
       " array([ 32, 107, 110, 111, 119, 108, 101, 100, 103, 101]),\n",
       " array([44]),\n",
       " array([ 32,  97, 110, 100]),\n",
       " array([ 32, 104, 101]),\n",
       " array([ 32, 104,  97, 100]),\n",
       " array([32, 97]),\n",
       " array([ 32, 115, 104,  97, 114, 101]),\n",
       " array([ 32, 105, 110]),\n",
       " array([ 32,  97, 108, 108]),\n",
       " array([257, 104, 101]),\n",
       " array([ 32, 103, 105, 102, 116, 115]),\n",
       " array([ 32, 111, 102]),\n",
       " array([ 32, 104, 105, 115]),\n",
       " array([ 32,  98, 114, 101, 116, 104, 114, 101, 110]),\n",
       " array([46]),\n",
       " array([ 32,  72, 101]),\n",
       " array([ 32, 104,  97, 100]),\n",
       " array([ 32, 103, 111, 110, 101]),\n",
       " array([ 32, 111, 102, 116, 101, 110]),\n",
       " array([ 32,  97, 108, 111, 110, 101]),\n",
       " array([ 32, 105, 110, 116, 111]),\n",
       " array([257, 104, 101]),\n",
       " array([ 32, 118, 111, 105, 100]),\n",
       " array([ 32, 112, 108,  97,  99, 101, 115]),\n",
       " array([ 32, 115, 101, 101, 107, 105, 110, 103]),\n",
       " array([257, 104, 101]),\n",
       " array([ 32,  73, 109, 112, 101, 114, 105, 115, 104,  97,  98, 108, 101]),\n",
       " array([ 32,  70, 108,  97, 109, 101]),\n",
       " array([59]),\n",
       " array([ 32, 102, 111, 114]),\n",
       " array([ 32, 100, 101, 115, 105, 114, 101]),\n",
       " array([ 32, 103, 114, 101, 119]),\n",
       " array([ 32, 104, 111, 116]),\n",
       " array([ 32, 119, 105, 116, 104, 105, 110]),\n",
       " array([ 32, 104, 105, 109]),\n",
       " array([257, 111]),\n",
       " array([ 32,  98, 114, 105, 110, 103]),\n",
       " array([ 32, 105, 110, 116, 111]),\n",
       " array([ 32,  66, 101, 105, 110, 103]),\n",
       " array([257, 104, 105, 110, 103, 115]),\n",
       " array([ 32, 111, 102]),\n",
       " array([ 32, 104, 105, 115]),\n",
       " array([ 32, 111, 119, 110]),\n",
       " array([44]),\n",
       " array([ 32,  97, 110, 100]),\n",
       " array([ 32, 105, 116]),\n",
       " array([ 32, 115, 101, 101, 109, 101, 100]),\n",
       " array([257, 111]),\n",
       " array([ 32, 104, 105, 109]),\n",
       " array([257, 104,  97, 116]),\n",
       " array([ 32, 108, 108, 117, 118,  97, 116,  97, 114]),\n",
       " array([257, 111, 111, 107]),\n",
       " array([ 32, 110, 111]),\n",
       " array([257, 104, 111, 117, 103, 104, 116]),\n",
       " array([ 32, 102, 111, 114]),\n",
       " array([257, 104, 101]),\n",
       " array([ 32,  86, 111, 105, 100]),\n",
       " array([44]),\n",
       " array([ 32,  97, 110, 100]),\n",
       " array([ 32, 104, 101]),\n",
       " array([ 32, 119,  97, 115]),\n",
       " array([ 32, 105, 109, 112,  97, 116, 105, 101, 110, 116]),\n",
       " array([ 32, 111, 102]),\n",
       " array([ 32, 105, 116, 115]),\n",
       " array([ 32, 101, 109, 112, 116, 105, 110, 101, 115, 115]),\n",
       " array([46]),\n",
       " array([ 32,  89, 101, 116]),\n",
       " array([ 32, 104, 101]),\n",
       " array([ 32, 102, 111, 117, 110, 100]),\n",
       " array([ 32, 110, 111, 116]),\n",
       " array([257, 104, 101]),\n",
       " array([ 32,  70, 105, 114, 101]),\n",
       " array([44]),\n",
       " array([ 32, 102, 111, 114]),\n",
       " array([ 32, 105, 116]),\n",
       " array([ 32, 105, 115]),\n",
       " array([ 32, 119, 105, 116, 104]),\n",
       " array([ 32, 108, 108, 117, 118,  97, 116,  97, 114]),\n",
       " array([46]),\n",
       " array([ 32,  66, 117, 116]),\n",
       " array([ 32,  98, 101, 105, 110, 103]),\n",
       " array([ 32,  97, 108, 111, 110, 101]),\n",
       " array([ 32, 104, 101]),\n",
       " array([ 32, 104,  97, 100]),\n",
       " array([ 32,  98, 101, 103, 117, 110]),\n",
       " array([257, 111]),\n",
       " array([ 32,  99, 111, 110,  99, 101, 105, 118, 101]),\n",
       " array([257, 104, 111, 117, 103, 104, 116, 115]),\n",
       " array([ 32, 111, 102]),\n",
       " array([ 32, 104, 105, 115]),\n",
       " array([ 32, 111, 119, 110]),\n",
       " array([ 32, 117, 110, 108, 105, 107, 101]),\n",
       " array([257, 104, 111, 115, 101]),\n",
       " array([ 32, 111, 102]),\n",
       " array([ 32, 104, 105, 115]),\n",
       " array([ 32,  98, 114, 101, 116, 104, 114, 101, 110]),\n",
       " array([46]),\n",
       " array([ 32,  83, 111, 109, 101]),\n",
       " array([ 32, 111, 102]),\n",
       " array([257, 104, 101, 115, 101]),\n",
       " array([257, 104, 111, 117, 103, 104, 116, 115]),\n",
       " array([ 32, 104, 101]),\n",
       " array([ 32, 110, 111, 119]),\n",
       " array([ 32, 119, 111, 118, 101]),\n",
       " array([ 32, 105, 110, 116, 111]),\n",
       " array([ 32, 104, 105, 115]),\n",
       " array([ 32, 109, 117, 115, 105,  99]),\n",
       " array([44]),\n",
       " array([ 32,  97, 110, 100]),\n",
       " array([ 32, 115, 116, 114,  97, 105, 103, 104, 116, 119,  97, 121]),\n",
       " array([ 32, 100, 105, 115,  99, 111, 114, 100]),\n",
       " array([ 32,  97, 114, 111, 115, 101]),\n",
       " array([ 32,  97,  98, 111, 117, 116]),\n",
       " array([ 32, 104, 105, 109]),\n",
       " array([44]),\n",
       " array([ 32,  97, 110, 100]),\n",
       " array([ 32, 109,  97, 110, 121]),\n",
       " array([257, 104,  97, 116]),\n",
       " array([ 32, 115,  97, 110, 103]),\n",
       " array([ 32, 110, 105, 103, 104]),\n",
       " array([ 32, 104, 105, 109]),\n",
       " array([ 32, 103, 114, 101, 119]),\n",
       " array([ 32, 100, 101, 115, 112, 111, 110, 100, 101, 110, 116]),\n",
       " array([44]),\n",
       " array([ 32,  97, 110, 100]),\n",
       " array([257, 104, 101, 105, 114]),\n",
       " array([257, 104, 111, 117, 103, 104, 116]),\n",
       " array([ 32, 119,  97, 115]),\n",
       " array([ 32, 100, 105, 115, 116, 117, 114,  98, 101, 100]),\n",
       " array([ 32,  97, 110, 100]),\n",
       " array([257, 104, 101, 105, 114]),\n",
       " array([ 32, 109, 117, 115, 105,  99]),\n",
       " array([ 32, 102,  97, 108, 116, 101, 114, 101, 100]),\n",
       " array([59]),\n",
       " array([ 32,  98, 117, 116]),\n",
       " array([ 32, 115, 111, 109, 101]),\n",
       " array([ 32,  98, 101, 103,  97, 110]),\n",
       " array([257, 111]),\n",
       " array([ 32,  97, 116, 116, 117, 110, 101]),\n",
       " array([257, 104, 101, 105, 114]),\n",
       " array([ 32, 109, 117, 115, 105,  99]),\n",
       " array([257, 111]),\n",
       " array([ 32, 104, 105, 115]),\n",
       " array([ 32, 114,  97, 116, 104, 101, 114]),\n",
       " array([257, 104,  97, 110]),\n",
       " array([257, 111]),\n",
       " array([257, 104, 101]),\n",
       " array([257, 104, 111, 117, 103, 104, 116]),\n",
       " array([ 32, 119, 104, 105,  99, 104]),\n",
       " array([257, 104, 101, 121]),\n",
       " array([ 32, 104,  97, 100]),\n",
       " array([ 32,  97, 116]),\n",
       " array([ 32, 102, 105, 114, 115, 116]),\n",
       " array([46]),\n",
       " array([ 32,  84, 104, 101, 110]),\n",
       " array([257, 104, 101]),\n",
       " array([ 32, 100, 105, 115,  99, 111, 114, 100]),\n",
       " array([ 32, 111, 102]),\n",
       " array([ 32,  77, 101, 108, 107, 111, 114]),\n",
       " array([ 32, 115, 112, 114, 101,  97, 100]),\n",
       " array([ 32, 101, 118, 101, 114]),\n",
       " array([ 32, 119, 105, 100, 101, 114]),\n",
       " array([44]),\n",
       " array([ 32,  97, 110, 100]),\n",
       " array([257, 104, 101]),\n",
       " array([ 32, 109, 101, 108, 111, 100, 105, 101, 115]),\n",
       " array([ 32, 119, 104, 105,  99, 104]),\n",
       " array([ 32, 104,  97, 100]),\n",
       " array([ 32,  98, 101, 101, 110]),\n",
       " array([ 32, 104, 101,  97, 114, 100]),\n",
       " array([ 32,  98, 101, 102, 111, 114, 101]),\n",
       " array([ 32, 102, 111, 117, 110, 100, 101, 114, 101, 100]),\n",
       " array([ 32, 105, 110]),\n",
       " array([32, 97]),\n",
       " array([ 32, 115, 101,  97]),\n",
       " array([ 32, 111, 102]),\n",
       " array([257, 117, 114,  98, 117, 108, 101, 110, 116]),\n",
       " array([ 32, 115, 111, 117, 110, 100]),\n",
       " array([46]),\n",
       " array([ 32,  66, 117, 116]),\n",
       " array([ 32, 108, 108, 117, 118,  97, 116,  97, 114]),\n",
       " array([ 32, 115,  97, 116]),\n",
       " array([ 32,  97, 110, 100]),\n",
       " array([ 32, 104, 101,  97, 114, 107, 101, 110, 101, 100]),\n",
       " array([ 32, 117, 110, 116, 105, 108]),\n",
       " array([ 32, 105, 116]),\n",
       " array([ 32, 115, 101, 101, 109, 101, 100]),\n",
       " array([257, 104,  97, 116]),\n",
       " array([ 32,  97,  98, 111, 117, 116]),\n",
       " array([ 32, 104, 105, 115]),\n",
       " array([257, 104, 114, 111, 110, 101]),\n",
       " array([257, 104, 101, 114, 101]),\n",
       " array([ 32, 119,  97, 115]),\n",
       " array([32, 97]),\n",
       " array([ 32, 114,  97, 103, 105, 110, 103]),\n",
       " array([ 32, 115, 116, 111, 114, 109]),\n",
       " array([44]),\n",
       " array([ 32,  97, 115]),\n",
       " array([ 32, 111, 102]),\n",
       " array([ 32, 100,  97, 114, 107]),\n",
       " array([ 32, 119,  97, 116, 101, 114, 115]),\n",
       " array([257, 104,  97, 116]),\n",
       " array([ 32, 109,  97, 100, 101]),\n",
       " array([ 32, 119,  97, 114]),\n",
       " array([ 32, 111, 110, 101]),\n",
       " array([ 32, 117, 112, 111, 110]),\n",
       " array([ 32,  97, 110, 111, 116, 104, 101, 114]),\n",
       " array([ 32, 105, 110]),\n",
       " array([ 32,  97, 110]),\n",
       " array([ 32, 101, 110, 100, 108, 101, 115, 115]),\n",
       " array([ 32, 119, 114,  97, 116, 104]),\n",
       " array([257, 104,  97, 116]),\n",
       " array([ 32, 119, 111, 117, 108, 100]),\n",
       " array([ 32, 110, 111, 116]),\n",
       " array([ 32,  98, 101]),\n",
       " array([ 32,  97, 115, 115, 117,  97, 103, 101, 100]),\n",
       " array([46]),\n",
       " array([ 32,  84, 104, 101, 110]),\n",
       " array([ 32, 108, 108, 117, 118,  97, 116,  97, 114]),\n",
       " array([ 32,  97, 114, 111, 115, 101]),\n",
       " array([44]),\n",
       " array([ 32,  97, 110, 100]),\n",
       " array([257, 104, 101]),\n",
       " array([ 32,  65, 105, 110, 117, 114]),\n",
       " array([ 32, 112, 101, 114,  99, 101, 105, 118, 101, 100]),\n",
       " array([257, 104,  97, 116]),\n",
       " array([ 32, 104, 101]),\n",
       " array([ 32, 115, 109, 105, 108, 101, 100]),\n",
       " array([59]),\n",
       " array([ 32,  97, 110, 100]),\n",
       " array([ 32, 104, 101]),\n",
       " array([ 32, 108, 105, 102, 116, 101, 100]),\n",
       " array([ 32, 117, 112]),\n",
       " array([ 32, 104, 105, 115]),\n",
       " array([ 32, 108, 101, 102, 116]),\n",
       " array([ 32, 104,  97, 110, 100]),\n",
       " array([44]),\n",
       " array([ 32,  97, 110, 100]),\n",
       " array([32, 97]),\n",
       " array([ 32, 110, 101, 119]),\n",
       " array([257, 104, 101, 109, 101]),\n",
       " array([ 32,  98, 101, 103,  97, 110]),\n",
       " array([ 32,  97, 109, 105, 100]),\n",
       " array([257, 104, 101]),\n",
       " array([ 32, 115, 116, 111, 114, 109]),\n",
       " array([44]),\n",
       " array([ 32, 108, 105, 107, 101]),\n",
       " array([ 32,  97, 110, 100]),\n",
       " array([ 32, 121, 101, 116]),\n",
       " array([ 32, 117, 110, 108, 105, 107, 101]),\n",
       " array([257, 111]),\n",
       " array([257, 104, 101]),\n",
       " array([ 32, 102, 111, 114, 109, 101, 114]),\n",
       " array([257, 104, 101, 109, 101]),\n",
       " array([44]),\n",
       " array([ 32,  97, 110, 100]),\n",
       " array([ 32, 105, 116]),\n",
       " array([ 32, 103,  97, 116, 104, 101, 114, 101, 100]),\n",
       " array([ 32, 112, 111, 119, 101, 114]),\n",
       " array([ 32,  97, 110, 100]),\n",
       " array([ 32, 104,  97, 100]),\n",
       " array([ 32, 110, 101, 119]),\n",
       " array([ 32,  98, 101,  97, 117, 116, 121]),\n",
       " array([46]),\n",
       " array([ 32,  66, 117, 116]),\n",
       " array([257, 104, 101]),\n",
       " array([ 32, 100, 105, 115,  99, 111, 114, 100]),\n",
       " array([ 32, 111, 102]),\n",
       " array([ 32,  77, 101, 108, 107, 111, 114]),\n",
       " array([ 32, 114, 111, 115, 101]),\n",
       " array([ 32, 105, 110]),\n",
       " array([ 32, 117, 112, 114, 111,  97, 114]),\n",
       " array([ 32,  97, 110, 100]),\n",
       " array([ 32,  99, 111, 110, 116, 101, 110, 100, 101, 100]),\n",
       " array([ 32, 119, 105, 116, 104]),\n",
       " array([ 32, 105, 116]),\n",
       " array([44]),\n",
       " array([ 32,  97, 110, 100]),\n",
       " array([ 32,  97, 103,  97, 105, 110]),\n",
       " array([257, 104, 101, 114, 101]),\n",
       " array([ 32, 119,  97, 115]),\n",
       " array([32, 97]),\n",
       " array([ 32, 119,  97, 114]),\n",
       " array([ 32, 111, 102]),\n",
       " array([ 32, 115, 111, 117, 110, 100]),\n",
       " array([ 32, 109, 111, 114, 101]),\n",
       " array([ 32, 118, 105, 111, 108, 101, 110, 116]),\n",
       " array([257, 104,  97, 110]),\n",
       " array([ 32,  98, 101, 102, 111, 114, 101]),\n",
       " array([44]),\n",
       " array([ 32, 117, 110, 116, 105, 108]),\n",
       " array([ 32, 109,  97, 110, 121]),\n",
       " array([ 32, 111, 102]),\n",
       " array([257, 104, 101]),\n",
       " array([ 32,  65, 105, 110, 117, 114]),\n",
       " array([ 32, 119, 101, 114, 101]),\n",
       " array([ 32, 100, 105, 115, 109,  97, 121, 101, 100]),\n",
       " array([ 32,  97, 110, 100]),\n",
       " array([ 32, 115,  97, 110, 103]),\n",
       " array([ 32, 110, 111]),\n",
       " array([ 32, 108, 111, 110, 103, 101, 114]),\n",
       " array([44]),\n",
       " array([ 32,  97, 110, 100]),\n",
       " array([ 32,  77, 101, 108, 107, 111, 114]),\n",
       " array([ 32, 104,  97, 100]),\n",
       " array([257, 104, 101]),\n",
       " array([ 32, 109,  97, 115, 116, 101, 114, 121]),\n",
       " array([46]),\n",
       " array([ 32,  84, 104, 101, 110]),\n",
       " array([ 32,  97, 103,  97, 105, 110]),\n",
       " array([ 32, 108, 108, 117, 118,  97, 116,  97, 114]),\n",
       " array([ 32,  97, 114, 111, 115, 101]),\n",
       " array([44]),\n",
       " array([ 32,  97, 110, 100]),\n",
       " array([257, 104, 101]),\n",
       " array([ 32,  65, 105, 110, 117, 114]),\n",
       " array([ 32, 112, 101, 114,  99, 101, 105, 118, 101, 100]),\n",
       " array([257, 104,  97, 116]),\n",
       " array([ 32, 104, 105, 115]),\n",
       " array([ 32,  99, 111, 117, 110, 116, 101, 110,  97, 110,  99, 101]),\n",
       " array([ 32, 119,  97, 115]),\n",
       " array([ 32, 115, 116, 101, 109]),\n",
       " array([59]),\n",
       " array([ 32,  97, 110, 100]),\n",
       " array([ 32, 104, 101]),\n",
       " array([ 32, 108, 105, 102, 116, 101, 100]),\n",
       " array([ 32, 117, 112]),\n",
       " array([ 32, 104, 105, 115]),\n",
       " array([ 32, 114, 105, 103, 104, 116]),\n",
       " array([ 32, 104,  97, 110, 100]),\n",
       " array([44]),\n",
       " array([ 32,  97, 110, 100]),\n",
       " array([ 32,  98, 101, 104, 111, 108, 100]),\n",
       " array([33]),\n",
       " array([32, 97]),\n",
       " array([257, 104, 105, 114, 100]),\n",
       " array([257, 104, 101, 109, 101]),\n",
       " array([ 32, 103, 114, 101, 119]),\n",
       " array([ 32,  97, 109, 105, 100]),\n",
       " array([257, 104, 101]),\n",
       " array([ 32,  99, 111, 110, 102, 117, 115, 105, 111, 110]),\n",
       " array([44]),\n",
       " array([ 32,  97, 110, 100]),\n",
       " array([ 32, 105, 116]),\n",
       " array([ 32, 119,  97, 115]),\n",
       " array([ 32, 117, 110, 108, 105, 107, 101]),\n",
       " array([257, 104, 101]),\n",
       " array([ 32, 111, 116, 104, 101, 114, 115]),\n",
       " array([46]),\n",
       " array([ 32,  70, 111, 114]),\n",
       " array([ 32, 105, 116]),\n",
       " array([ 32, 115, 101, 101, 109, 101, 100]),\n",
       " array([ 32,  97, 116]),\n",
       " array([ 32, 102, 105, 114, 115, 116]),\n",
       " array([ 32, 115, 111, 102, 116]),\n",
       " array([ 32,  97, 110, 100]),\n",
       " array([ 32, 115, 119, 101, 101, 116]),\n",
       " array([44]),\n",
       " array([32, 97]),\n",
       " array([ 32, 109, 101, 114, 101]),\n",
       " array([ 32, 114, 105, 112, 112, 108, 105, 110, 103]),\n",
       " array([ 32, 111, 102]),\n",
       " array([ 32, 103, 101, 110, 116, 108, 101]),\n",
       " array([ 32, 115, 111, 117, 110, 100, 115]),\n",
       " array([ 32, 105, 110]),\n",
       " array([ 32, 100, 101, 108, 105,  99,  97, 116, 101]),\n",
       " array([ 32, 109, 101, 108, 111, 100, 105, 101, 115]),\n",
       " array([59]),\n",
       " array([ 32,  98, 117, 116]),\n",
       " array([ 32, 105, 116]),\n",
       " array([ 32,  99, 111, 117, 108, 100]),\n",
       " array([ 32, 110, 111, 116]),\n",
       " array([ 32,  98, 101]),\n",
       " array([ 32, 113, 117, 101, 110,  99, 104, 101, 100]),\n",
       " array([44]),\n",
       " array([ 32,  97, 110, 100]),\n",
       " array([ 32, 105, 116]),\n",
       " array([257, 111, 111, 107]),\n",
       " array([257, 111]),\n",
       " array([ 32, 105, 116, 115, 101, 108, 102]),\n",
       " array([ 32, 112, 111, 119, 101, 114]),\n",
       " array([ 32,  97, 110, 100]),\n",
       " array([ 32, 112, 114, 111, 102, 117, 110, 100, 105, 116, 121]),\n",
       " array([46]),\n",
       " array([ 32,  65, 110, 100]),\n",
       " array([ 32, 105, 116]),\n",
       " array([ 32, 115, 101, 101, 109, 101, 100]),\n",
       " array([ 32,  97, 116]),\n",
       " array([ 32, 108,  97, 115, 116]),\n",
       " array([257, 104,  97, 116]),\n",
       " array([257, 104, 101, 114, 101]),\n",
       " array([ 32, 119, 101, 114, 101]),\n",
       " array([257, 119, 111]),\n",
       " array([ 32, 109, 117, 115, 105,  99, 115]),\n",
       " array([ 32, 112, 114, 111, 103, 114, 101, 115, 115, 105, 110, 103]),\n",
       " array([ 32,  97, 116]),\n",
       " array([ 32, 111, 110, 101]),\n",
       " array([257, 105, 109, 101]),\n",
       " array([ 32,  98, 101, 102, 111, 114, 101]),\n",
       " array([257, 104, 101]),\n",
       " array([ 32, 115, 101,  97, 116]),\n",
       " array([ 32, 111, 102]),\n",
       " array([ 32, 108, 108, 117, 118,  97, 116,  97, 114]),\n",
       " array([44]),\n",
       " array([ 32,  97, 110, 100]),\n",
       " array([257, 104, 101, 121]),\n",
       " array([ 32, 119, 101, 114, 101]),\n",
       " array([ 32, 117, 116, 116, 101, 114, 108, 121]),\n",
       " array([ 32,  97, 116]),\n",
       " array([ 32, 118,  97, 114, 105,  97, 110,  99, 101]),\n",
       " array([46]),\n",
       " array([ 32,  84, 104, 101]),\n",
       " array([ 32, 111, 110, 101]),\n",
       " array([ 32, 119,  97, 115]),\n",
       " array([ 32, 100, 101, 101, 112]),\n",
       " array([ 32,  97, 110, 100]),\n",
       " array([ 32, 119, 105, 100, 101]),\n",
       " array([ 32,  97, 110, 100]),\n",
       " array([ 32,  98, 101,  97, 117, 116, 105, 102, 117, 108]),\n",
       " array([44]),\n",
       " array([ 32,  98, 117, 116]),\n",
       " array([ 32, 115, 108, 111, 119]),\n",
       " array([ 32,  97, 110, 100]),\n",
       " array([ 32,  98, 108, 101, 110, 100, 101, 100]),\n",
       " array([ 32, 119, 105, 116, 104]),\n",
       " ...]"
      ]
     },
     "execution_count": 74,
     "metadata": {},
     "output_type": "execute_result"
    }
   ],
   "source": [
    "token_chunks3"
   ]
  },
  {
   "cell_type": "code",
   "execution_count": 75,
   "metadata": {},
   "outputs": [
    {
     "data": {
      "text/plain": [
       "(104, 101)"
      ]
     },
     "execution_count": 75,
     "metadata": {},
     "output_type": "execute_result"
    }
   ],
   "source": [
    "pair_counts3 = {}\n",
    "for chunks in token_chunks3:\n",
    "    pair_counts3 = get_pair_counts(chunks,pairs=pair_counts3)\n",
    "top_pair = max(pair_counts3,key=pair_counts3.get)\n",
    "top_pair"
   ]
  },
  {
   "cell_type": "code",
   "execution_count": 76,
   "metadata": {},
   "outputs": [],
   "source": [
    "token_chunks4 = [merge_top_pair(chunk,top_pair,258) for chunk in token_chunks3]"
   ]
  },
  {
   "cell_type": "code",
   "execution_count": 77,
   "metadata": {},
   "outputs": [
    {
     "data": {
      "text/plain": [
       "826401"
      ]
     },
     "execution_count": 77,
     "metadata": {},
     "output_type": "execute_result"
    }
   ],
   "source": [
    "len(token_chunks4)"
   ]
  },
  {
   "cell_type": "code",
   "execution_count": 78,
   "metadata": {},
   "outputs": [
    {
     "data": {
      "text/plain": [
       "[2, 6, 3, 2, 6, 5, 4, 4, 1, 2]"
      ]
     },
     "execution_count": 78,
     "metadata": {},
     "output_type": "execute_result"
    }
   ],
   "source": [
    "len_token_chunks4 = list(map(len,token_chunks4))\n",
    "len_token_chunks4[:10]"
   ]
  },
  {
   "cell_type": "code",
   "execution_count": 79,
   "metadata": {},
   "outputs": [
    {
     "data": {
      "text/plain": [
       "4.269495075635194"
      ]
     },
     "execution_count": 79,
     "metadata": {},
     "output_type": "execute_result"
    }
   ],
   "source": [
    "np.mean(len_token_chunks4)"
   ]
  },
  {
   "cell_type": "code",
   "execution_count": 173,
   "metadata": {},
   "outputs": [
    {
     "data": {
      "text/plain": [
       "826401"
      ]
     },
     "execution_count": 173,
     "metadata": {},
     "output_type": "execute_result"
    }
   ],
   "source": [
    "len(token_chunks2)"
   ]
  },
  {
   "cell_type": "code",
   "execution_count": 153,
   "metadata": {},
   "outputs": [
    {
     "data": {
      "text/plain": [
       "[[84, 104, 101],\n",
       " [32, 77, 117, 115, 105, 99],\n",
       " [32, 111, 102],\n",
       " [257, 104, 101],\n",
       " [32, 65, 105, 110, 117, 114],\n",
       " [32, 84, 104, 101, 114, 101],\n",
       " [32, 119, 97, 115],\n",
       " [32, 69, 114, 117],\n",
       " [44],\n",
       " [257, 104, 101],\n",
       " [32, 79, 110, 101],\n",
       " [44],\n",
       " [32, 119, 104, 111],\n",
       " [32, 105, 110],\n",
       " [32, 65, 114, 100, 97],\n",
       " [32, 105, 115],\n",
       " [32, 99, 97, 108, 108, 101, 100],\n",
       " [32, 108, 108, 117, 118, 97, 116, 97, 114],\n",
       " [59],\n",
       " [32, 97, 110, 100]]"
      ]
     },
     "execution_count": 153,
     "metadata": {},
     "output_type": "execute_result"
    }
   ],
   "source": [
    "token_chunks2[:20]"
   ]
  },
  {
   "cell_type": "code",
   "execution_count": 154,
   "metadata": {},
   "outputs": [
    {
     "data": {
      "text/plain": [
       "[[32, 104, 105, 115],\n",
       " [32, 108, 97, 112],\n",
       " [46],\n",
       " [32, 72, 101],\n",
       " [32, 100, 114, 101, 119],\n",
       " [32, 97],\n",
       " [32, 100, 101, 101, 112],\n",
       " [32, 98, 114, 101, 97, 116, 104],\n",
       " [46],\n",
       " [32, 39],\n",
       " [87, 101, 108, 108],\n",
       " [44],\n",
       " [32, 73],\n",
       " [39, 109],\n",
       " [32, 98, 97, 99, 107],\n",
       " [44, 39],\n",
       " [32, 104, 101],\n",
       " [32, 115, 97, 105, 100],\n",
       " [46],\n",
       " [32]]"
      ]
     },
     "execution_count": 154,
     "metadata": {},
     "output_type": "execute_result"
    }
   ],
   "source": [
    "token_chunks2[-20:]"
   ]
  },
  {
   "cell_type": "code",
   "execution_count": 157,
   "metadata": {},
   "outputs": [],
   "source": [
    "token_chunks_str = str(token_chunks2)\n",
    "token_chunks_str2 = token_chunks_str[1:-2]\n",
    "token_chunks_str2 = token_chunks_str2.replace(\"[\",\"\")"
   ]
  },
  {
   "cell_type": "code",
   "execution_count": 158,
   "metadata": {},
   "outputs": [
    {
     "name": "stdout",
     "output_type": "stream",
     "text": [
      "84, 104, 101], 32, 77, 117, 115, 105, 99], 32, 111, 102], 257, 104, 101], 32, 65, 105, 110, 117, 114\n",
      "4], 32, 73], 39, 109], 32, 98, 97, 99, 107], 44, 39], 32, 104, 101], 32, 115, 97, 105, 100], 46], 32\n"
     ]
    }
   ],
   "source": [
    "print(token_chunks_str2[:100])\n",
    "print(token_chunks_str2[-100:])"
   ]
  },
  {
   "cell_type": "code",
   "execution_count": 159,
   "metadata": {},
   "outputs": [
    {
     "name": "stdout",
     "output_type": "stream",
     "text": [
      "84 104 101\n",
      " 32 77 117 115 105 99\n",
      " 32 111 102\n",
      " 257 104 101\n",
      " 32 65 105 110 117 114\n",
      " 32 84 104 101 114 \n",
      "-------------------------------------------------\n",
      "39\n",
      " 87 101 108 108\n",
      " 44\n",
      " 32 73\n",
      " 39 109\n",
      " 32 98 97 99 107\n",
      " 44 39\n",
      " 32 104 101\n",
      " 32 115 97 105 100\n",
      " 46\n",
      " 32\n"
     ]
    }
   ],
   "source": [
    "\n",
    "\n",
    "token_chunks_str2 = token_chunks_str2.replace(\"],\" ,\"\\n\")\n",
    "token_chunks_str2 = token_chunks_str2.replace(\",\",\"\")\n",
    "print(token_chunks_str2[:100])\n",
    "print(\"-------------------------------------------------\")\n",
    "print(token_chunks_str2[-100:])"
   ]
  },
  {
   "cell_type": "code",
   "execution_count": 163,
   "metadata": {},
   "outputs": [],
   "source": [
    "with open(\"test.txt\",\"w\") as f:\n",
    "    f.write(token_chunks_str2)"
   ]
  },
  {
   "cell_type": "code",
   "execution_count": 164,
   "metadata": {},
   "outputs": [],
   "source": [
    "with open(\"test.txt\",\"r\") as f:\n",
    "    chunks = f.read()\n"
   ]
  },
  {
   "cell_type": "code",
   "execution_count": 165,
   "metadata": {},
   "outputs": [
    {
     "data": {
      "text/plain": [
       "'39\\n 87 101 108 108\\n 44\\n 32 73\\n 39 109\\n 32 98 97 99 107\\n 44 39\\n 32 104 101\\n 32 115 97 105 100\\n 46\\n 32'"
      ]
     },
     "execution_count": 165,
     "metadata": {},
     "output_type": "execute_result"
    }
   ],
   "source": [
    "chunks[-100:]"
   ]
  },
  {
   "cell_type": "code",
   "execution_count": 166,
   "metadata": {},
   "outputs": [],
   "source": [
    "def recover_chunks(text):\n",
    "    token_chunks = [[int(num) for num in block.strip().split(\" \")] for block in text.split(\"\\n\")]\n",
    "    return token_chunks"
   ]
  },
  {
   "cell_type": "code",
   "execution_count": 167,
   "metadata": {},
   "outputs": [],
   "source": [
    "chunks_recovered = recover_chunks(chunks)"
   ]
  },
  {
   "cell_type": "code",
   "execution_count": 168,
   "metadata": {},
   "outputs": [
    {
     "data": {
      "text/plain": [
       "[[84, 104, 101],\n",
       " [32, 77, 117, 115, 105, 99],\n",
       " [32, 111, 102],\n",
       " [257, 104, 101],\n",
       " [32, 65, 105, 110, 117, 114],\n",
       " [32, 84, 104, 101, 114, 101],\n",
       " [32, 119, 97, 115],\n",
       " [32, 69, 114, 117],\n",
       " [44],\n",
       " [257, 104, 101],\n",
       " [32, 79, 110, 101],\n",
       " [44],\n",
       " [32, 119, 104, 111],\n",
       " [32, 105, 110],\n",
       " [32, 65, 114, 100, 97],\n",
       " [32, 105, 115],\n",
       " [32, 99, 97, 108, 108, 101, 100],\n",
       " [32, 108, 108, 117, 118, 97, 116, 97, 114],\n",
       " [59],\n",
       " [32, 97, 110, 100]]"
      ]
     },
     "execution_count": 168,
     "metadata": {},
     "output_type": "execute_result"
    }
   ],
   "source": [
    "chunks_recovered[:20]"
   ]
  },
  {
   "cell_type": "code",
   "execution_count": 172,
   "metadata": {},
   "outputs": [
    {
     "data": {
      "text/plain": [
       "True"
      ]
     },
     "execution_count": 172,
     "metadata": {},
     "output_type": "execute_result"
    }
   ],
   "source": [
    "chunks_recovered == token_chunks2"
   ]
  },
  {
   "cell_type": "code",
   "execution_count": 171,
   "metadata": {},
   "outputs": [
    {
     "data": {
      "text/plain": [
       "True"
      ]
     },
     "execution_count": 171,
     "metadata": {},
     "output_type": "execute_result"
    }
   ],
   "source": []
  },
  {
   "cell_type": "code",
   "execution_count": null,
   "metadata": {},
   "outputs": [],
   "source": []
  }
 ],
 "metadata": {
  "kernelspec": {
   "display_name": "Python 3",
   "language": "python",
   "name": "python3"
  },
  "language_info": {
   "codemirror_mode": {
    "name": "ipython",
    "version": 3
   },
   "file_extension": ".py",
   "mimetype": "text/x-python",
   "name": "python",
   "nbconvert_exporter": "python",
   "pygments_lexer": "ipython3",
   "version": "3.11.7"
  }
 },
 "nbformat": 4,
 "nbformat_minor": 2
}
